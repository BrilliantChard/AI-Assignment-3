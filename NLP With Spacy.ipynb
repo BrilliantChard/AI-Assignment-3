{
 "cells": [
  {
   "cell_type": "markdown",
   "id": "d82a806d-0d27-4b06-825f-8a563c04dcd2",
   "metadata": {},
   "source": [
    "# 1️⃣  Setup ---------------------------------------------------------------"
   ]
  },
  {
   "cell_type": "code",
   "execution_count": null,
   "id": "1c0cc7f7-902d-4156-9931-3654631216a3",
   "metadata": {},
   "outputs": [],
   "source": [
    "import spacy\n",
    "from spacy.pipeline import EntityRuler"
   ]
  },
  {
   "cell_type": "code",
   "execution_count": null,
   "id": "9804e2b6-1d58-4093-94d0-92504804864b",
   "metadata": {},
   "outputs": [],
   "source": [
    "# Load the small English model\n",
    "nlp = spacy.load(\"en_core_web_sm\")"
   ]
  },
  {
   "cell_type": "markdown",
   "id": "bf8353a1-ee06-4428-8aca-52c6893de7cc",
   "metadata": {},
   "source": [
    "# 2️⃣  Add custom patterns for product & brand names ----------------------"
   ]
  },
  {
   "cell_type": "code",
   "execution_count": null,
   "id": "a6c20f9f-88d6-45a1-8503-394dcf00dad9",
   "metadata": {},
   "outputs": [],
   "source": [
    "patterns = [\n",
    "    {\"label\": \"PRODUCT\", \"pattern\": \"Echo Dot\"},\n",
    "    {\"label\": \"PRODUCT\", \"pattern\": \"Kindle Paperwhite\"},\n",
    "    {\"label\": \"PRODUCT\", \"pattern\": \"Galaxy Buds\"},\n",
    "    {\"label\": \"PRODUCT\", \"pattern\": \"ThinkPad X1 Carbon\"},\n",
    "    {\"label\": \"ORG\",      \"pattern\": \"Amazon\"},\n",
    "    {\"label\": \"ORG\",      \"pattern\": \"Samsung\"},\n",
    "    {\"label\": \"ORG\",      \"pattern\": \"Lenovo\"},\n",
    "]"
   ]
  },
  {
   "cell_type": "code",
   "execution_count": null,
   "id": "78549375-7b4a-4612-a549-8561552eca41",
   "metadata": {},
   "outputs": [],
   "source": [
    "ruler = EntityRuler(nlp, overwrite_ents=True)\n",
    "ruler.add_patterns(patterns)\n",
    "nlp.add_pipe(ruler, before=\"ner\")"
   ]
  },
  {
   "cell_type": "code",
   "execution_count": null,
   "id": "f51bfb2e-03ed-4480-9996-a05a96655cba",
   "metadata": {},
   "outputs": [],
   "source": [
    "# 3️⃣  Tiny rule‑based sentiment helper -----------------------------------\n",
    "positive_words = {\n",
    "    \"excellent\", \"great\", \"love\", \"loved\", \"fantastic\", \"perfect\",\n",
    "    \"amazing\", \"easy\", \"comfortable\", \"happy\", \"works\", \"solid\"\n",
    "}\n",
    "negative_words = {\n",
    "    \"bad\", \"terrible\", \"poor\", \"slow\", \"broken\", \"disappointed\",\n",
    "    \"difficult\", \"cheap\", \"hate\", \"heavy\", \"return\"\n",
    "}"
   ]
  },
  {
   "cell_type": "code",
   "execution_count": null,
   "id": "46b89137-28d4-452b-93fd-2a293608fa3f",
   "metadata": {},
   "outputs": [],
   "source": [
    "def sentiment_rule(text):\n",
    "    tokens = [t.text.lower() for t in nlp.make_doc(text)]\n",
    "    pos = sum(tok in positive_words for tok in tokens)\n",
    "    neg = sum(tok in negative_words for tok in tokens)\n",
    "    if pos == neg == 0:\n",
    "        return \"neutral\"\n",
    "    return \"positive\" if pos >= neg else \"negative\"\n"
   ]
  },
  {
   "cell_type": "code",
   "execution_count": null,
   "id": "8caaed37-3f9a-45cc-891a-23658d4d0e5f",
   "metadata": {},
   "outputs": [],
   "source": []
  },
  {
   "cell_type": "code",
   "execution_count": null,
   "id": "145ef056-522a-4742-af58-882024b515df",
   "metadata": {},
   "outputs": [],
   "source": [
    "# 4️⃣  Example reviews -----------------------------------------------------\n",
    "reviews = [\n",
    "    \"I love my new Echo Dot! Amazon finally nailed the sound quality.\",\n",
    "    \"The Kindle Paperwhite is great but the screen cracked after a month — very disappointed.\",\n",
    "    \"Samsung Galaxy Buds have an amazing fit and the battery life is excellent.\",\n",
    "    \"My ThinkPad X1 Carbon was fast at first, then turned slow and the keyboard feels cheap.\"\n",
    "]"
   ]
  },
  {
   "cell_type": "code",
   "execution_count": null,
   "id": "b1d6abfe-d697-41a6-817c-b993282314f1",
   "metadata": {},
   "outputs": [],
   "source": [
    "# 5️⃣  Run the pipeline and show results ----------------------------------\n",
    "for i, txt in enumerate(reviews, 1):\n",
    "    doc = nlp(txt)\n",
    "    ents = [(ent.text, ent.label_) for ent in doc.ents if ent.label_ in (\"PRODUCT\", \"ORG\")]\n",
    "    print(f\"\\nReview {i}: {txt}\")\n",
    "    print(\"  ➤ Entities:\", ents if ents else \"none found\")\n",
    "    print(\"  ➤ Sentiment:\", sentiment_rule(txt))"
   ]
  },
  {
   "cell_type": "code",
   "execution_count": null,
   "id": "dfad3f20-665c-4d6b-952c-381e4db8d303",
   "metadata": {},
   "outputs": [],
   "source": []
  }
 ],
 "metadata": {
  "kernelspec": {
   "display_name": "Python 3 (ipykernel)",
   "language": "python",
   "name": "python3"
  },
  "language_info": {
   "codemirror_mode": {
    "name": "ipython",
    "version": 3
   },
   "file_extension": ".py",
   "mimetype": "text/x-python",
   "name": "python",
   "nbconvert_exporter": "python",
   "pygments_lexer": "ipython3",
   "version": "3.13.2"
  }
 },
 "nbformat": 4,
 "nbformat_minor": 5
}
